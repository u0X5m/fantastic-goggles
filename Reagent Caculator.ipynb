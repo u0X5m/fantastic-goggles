{
 "cells": [
  {
   "cell_type": "code",
   "execution_count": 58,
   "metadata": {},
   "outputs": [],
   "source": [
    "import re, mendeleev\n",
    "from collections import Counter\n",
    "import numpy as np\n",
    "import math\n",
    "import ipywidgets as widgets\n",
    "from IPython.display import display, clear_output"
   ]
  },
  {
   "cell_type": "code",
   "execution_count": 49,
   "metadata": {},
   "outputs": [],
   "source": [
    "ATOM_REGEX = '([A-Z][a-z]*)(\\d*\\.*\\d*)'\n",
    "OPENERS = '({['\n",
    "CLOSERS = ')}]'\n",
    "\n",
    "def parse_molecule(formula):\n",
    "    \"\"\"Parse the formula and return a dict with occurences of each atom.\n",
    "    @param formula: The formula to parse\n",
    "    @type formula: str\n",
    "    @return: The result of the forumla\n",
    "    @rtype : dict\n",
    "    @raise ValueError: The formula is invalid\n",
    "    \"\"\"\n",
    "    \"\"\"Parse the formula and return a dict with occurences of each atom\"\"\"\n",
    "    if not is_balanced(formula):\n",
    "        raise ValueError(\"Watch your brackets ![{]$[&?)]}!]\")\n",
    "    return parse(formula)[0]\n",
    "\n",
    "\n",
    "def is_balanced(formula):\n",
    "    \"\"\"Check if all sort of brackets come in pairs.\n",
    "    @param formula: The forumla to parse\n",
    "    @type formula: str\n",
    "    @return: Result of sort of brackets come in pairs\n",
    "    @rtype : bool\n",
    "    \"\"\"\n",
    "    counter = Counter(formula)\n",
    "    result = counter[\n",
    "        '['] == counter[']'] and counter['{'] == counter[\n",
    "            '}'] and counter['('] == counter[')']\n",
    "    return(result)\n",
    "\n",
    "def dictify(tuples):\n",
    "    res = {}\n",
    "    for atom, n in tuples:\n",
    "        if atom in res:\n",
    "            res[atom] += float(n or 1)\n",
    "        else:\n",
    "            res[atom] = float(n or 1)\n",
    "    return(res)\n",
    "\n",
    "def fuse(mol1, mol2, w=1):\n",
    "    return( {\n",
    "        atom: (\n",
    "            mol1.get(atom, 0) + mol2.get(atom, 0)) * w\n",
    "        for atom in set(mol1) | set(mol2)})\n",
    "\n",
    "def parse(formula):\n",
    "    element = []\n",
    "    mol = {}\n",
    "    index = 0\n",
    "    while index < len(formula):\n",
    "        token = formula[index]\n",
    "        if token in CLOSERS:\n",
    "            match = re.match(\"\\d*\\.*\\d*\", formula[index+1:])\n",
    "            if match:\n",
    "                weight = float(match.group(0))\n",
    "                index += len(match.group(0))\n",
    "            else:\n",
    "                weight = 1\n",
    "            submol = dictify(re.findall(ATOM_REGEX, ''.join(element)))\n",
    "            return fuse(mol, submol, weight), index\n",
    "        elif token in OPENERS:\n",
    "            submol, count = parse(formula[index+1:])\n",
    "            mol = fuse(mol, submol)\n",
    "            index += count + 1\n",
    "        else:\n",
    "            element.append(token)\n",
    "        index += 1\n",
    "    return fuse(\n",
    "        mol, dictify(re.findall(ATOM_REGEX, ''.join(element)))), index\n",
    "\n",
    "\n",
    "def calculate_rmm(formula):\n",
    "    rmm = 0\n",
    "    for i in formula:\n",
    "        rmm += mendeleev.element(i).mass * formula[i]\n",
    "    return(rmm)\n",
    "\n",
    "def calculate_moles(target_mass, rmm):\n",
    "    return(target_mass/rmm)\n",
    "\n",
    "def Merge(dict1, dict2): \n",
    "    res = {**dict1, **dict2} \n",
    "    return res \n",
    "\n"
   ]
  },
  {
   "cell_type": "code",
   "execution_count": 50,
   "metadata": {},
   "outputs": [],
   "source": [
    "def calculate_reagents(reagent_list, moles):\n",
    "    reagent_list = {i[0]:i[1] for i in reagent_list}\n",
    "    reagents_out = []\n",
    "    for i in reagent_list.keys():\n",
    "        formula = parse_molecule(i)\n",
    "        rmm = calculate_rmm(formula)\n",
    "        moles = float(reagent_list[i]) * moles\n",
    "        reagents_out.append(i)\n",
    "        reagents_out.append(\"RMM: {:.4f}\".format(rmm))\n",
    "        reagents_out.append(\"Moles: {:e}\".format(moles))\n",
    "        reagents_out.append(\"Mass required: {:.4f} g\".format(moles * rmm))\n",
    "        reagents_out.append(\"-\"*10)\n",
    "    return \"\\n\".join(reagents_out)\n",
    "\n",
    "def format_equation(reagent_list, target):\n",
    "    reagents_list = [\"({}){}\".format(i[0],i[1]) for i in reagent_list]\n",
    "    reagents_eq = \" + \".join(reagents_list)\n",
    "    equation = \" --> \".join([str(i) for i in [reagents_eq, target]])\n",
    "    return equation\n",
    "\n",
    "def check_calculation(reagent_list, formula):\n",
    "    reagents_check = [\"({}){}\".format(i[0],i[1]) for i in reagent_list]\n",
    "    reagents_check = parse_molecule(\"\".join(reagents_check))\n",
    "    if reagents_check == formula:\n",
    "        out = \"Equation is balanced.\"\n",
    "    else:\n",
    "        out = \"EQUATION IS NOT BALANCED\"\n",
    "    return out\n"
   ]
  },
  {
   "cell_type": "code",
   "execution_count": 51,
   "metadata": {},
   "outputs": [],
   "source": [
    "#!jupyter nbextension enable --py widgetsnbextension --sys-prefix\n",
    "#!jupyter serverextension enable voila --sys-prefix"
   ]
  },
  {
   "cell_type": "code",
   "execution_count": 52,
   "metadata": {},
   "outputs": [],
   "source": [
    "text_0 = widgets.HTML(value = \"<h1>Reagents Calculator</h1>\")\n",
    "text_1 = widgets.HTML(value = \"Target composition:\")\n",
    "text_2 = widgets.HTML(value = \"Target mass in grams:\")\n",
    "text_3 = widgets.HTML(value = \"Reagents and molar equivalents<br>(one per line separated by a space)\")"
   ]
  },
  {
   "cell_type": "code",
   "execution_count": 53,
   "metadata": {},
   "outputs": [],
   "source": [
    "target_comp = widgets.Text(placeholder = \"e.g. CaTiO3\")\n",
    "target_mass = widgets.Text(placeholder = \"e.g. 1\")\n",
    "reagents = widgets.Textarea(placeholder= \"e.g.\\nCaCO3 1\\nTiO2 1\")"
   ]
  },
  {
   "cell_type": "code",
   "execution_count": 54,
   "metadata": {},
   "outputs": [],
   "source": [
    "output = widgets.Output()\n",
    "\n",
    "button_calculate = widgets.Button(\n",
    "                description = \"Calculate!\",\n",
    "                style = {\"description_width\": \"initial\"}\n",
    "            )\n",
    "\n",
    "\n",
    "def on_button_clicked(event):\n",
    "    with output:\n",
    "        output.clear_output()\n",
    "        target = target_comp.value\n",
    "        formula = parse_molecule(target)\n",
    "        reagent_list = [i.split(\" \") for i in reagents.value.split(\"\\n\")]\n",
    "        print(format_equation(reagent_list, target))\n",
    "        #print(\"Parsed formula:\")\n",
    "        #print(formula)\n",
    "        print(check_calculation(reagent_list, formula))\n",
    "        rmm = calculate_rmm(formula)\n",
    "        print(\"Calculated RMM:\")\n",
    "        print(\"{:.4f}\".format(rmm))\n",
    "        print(\"Calculated Moles:\")\n",
    "        mass = float(target_mass.value)\n",
    "        moles = calculate_moles(mass, rmm)\n",
    "        print(\"{:.4f} / {:.4f} = {:e}\".format(mass,\n",
    "                                              rmm,\n",
    "                                              moles))\n",
    "        print(\"-\"*20)\n",
    "        #print(reagent_list)\n",
    "        print(calculate_reagents(reagent_list, moles))\n",
    "    \n",
    "button_calculate.on_click(on_button_clicked)\n",
    "\n",
    "vbox_result = widgets.VBox([output])"
   ]
  },
  {
   "cell_type": "code",
   "execution_count": 55,
   "metadata": {},
   "outputs": [],
   "source": [
    "vbox_head = widgets.VBox([text_0,\n",
    "                            text_1,\n",
    "                            target_comp,\n",
    "                            text_2,\n",
    "                            target_mass,\n",
    "                            text_3,\n",
    "                            reagents,\n",
    "                            button_calculate])"
   ]
  },
  {
   "cell_type": "code",
   "execution_count": 56,
   "metadata": {},
   "outputs": [
    {
     "data": {
      "application/vnd.jupyter.widget-view+json": {
       "model_id": "e59e5c0f878541a58d6f079e52246495",
       "version_major": 2,
       "version_minor": 0
      },
      "text/plain": [
       "HBox(children=(VBox(children=(HTML(value='<h1>Reagents Calculator</h1>'), HTML(value='Target composition:'), T…"
      ]
     },
     "metadata": {},
     "output_type": "display_data"
    }
   ],
   "source": [
    "page = widgets.HBox([vbox_head, vbox_result])\n",
    "display(page)"
   ]
  }
 ],
 "metadata": {
  "celltoolbar": "Tags",
  "kernelspec": {
   "display_name": "Python 3",
   "language": "python",
   "name": "python3"
  },
  "language_info": {
   "codemirror_mode": {
    "name": "ipython",
    "version": 3
   },
   "file_extension": ".py",
   "mimetype": "text/x-python",
   "name": "python",
   "nbconvert_exporter": "python",
   "pygments_lexer": "ipython3",
   "version": "3.7.6"
  }
 },
 "nbformat": 4,
 "nbformat_minor": 4
}
